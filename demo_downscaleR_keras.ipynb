{
 "cells": [
  {
   "cell_type": "code",
   "execution_count": null,
   "metadata": {
    "vscode": {
     "languageId": "plaintext"
    }
   },
   "outputs": [],
   "source": [
    "library(transformeR)\n",
    "library(climate4R.datasets)\n",
    "library(downscaleR.keras)"
   ]
  },
  {
   "cell_type": "code",
   "execution_count": null,
   "metadata": {
    "vscode": {
     "languageId": "plaintext"
    }
   },
   "outputs": [],
   "source": [
    "data(\"VALUE_Iberia_tas\") # illustrative datasets included in transformeR\n",
    "y <- VALUE_Iberia_tas \n",
    "data(\"NCEP_Iberia_hus850\", \"NCEP_Iberia_psl\", \"NCEP_Iberia_ta850\")\n",
    "x <- makeMultiGrid(NCEP_Iberia_hus850, NCEP_Iberia_psl, NCEP_Iberia_ta850)"
   ]
  },
  {
   "cell_type": "code",
   "execution_count": null,
   "metadata": {
    "vscode": {
     "languageId": "plaintext"
    }
   },
   "outputs": [],
   "source": [
    "# We standardize the predictors using transformeR function scaleGrid\n",
    "x <- scaleGrid(x,type = \"standardize\") "
   ]
  },
  {
   "cell_type": "code",
   "execution_count": null,
   "metadata": {
    "vscode": {
     "languageId": "plaintext"
    }
   },
   "outputs": [],
   "source": [
    "# calculating predictors\n",
    "data <- prepareData.keras(x = x, y = y, \n",
    "                          first.connection = \"conv\",\n",
    "                          last.connection = \"dense\",\n",
    "                          channels = \"last\")"
   ]
  },
  {
   "cell_type": "code",
   "execution_count": null,
   "metadata": {
    "vscode": {
     "languageId": "plaintext"
    }
   },
   "outputs": [],
   "source": [
    "# Defining the keras model.... \n",
    "# We define 3 hidden layers that consists on \n",
    "# 2 convolutional steps followed by a dense connection.\n",
    "input_shape  <- dim(data$x.global)[-1]\n",
    "output_shape  <- dim(data$y$Data)[2]\n",
    "inputs <- layer_input(shape = input_shape)\n",
    "hidden <- inputs %>% \n",
    "  layer_conv_2d(filters = 25, kernel_size = c(3,3), activation = 'relu') %>%  \n",
    "  layer_conv_2d(filters = 10, kernel_size = c(3,3), activation = 'relu') %>% \n",
    "  layer_flatten() %>% \n",
    "  layer_dense(units = 20, activation = \"relu\")\n",
    "outputs <- layer_dense(hidden,units = output_shape)\n",
    "model <- keras_model(inputs = inputs, outputs = outputs)\n",
    "# We can print model in console to observe its configuration\n",
    "summary(model)"
   ]
  },
  {
   "cell_type": "code",
   "execution_count": null,
   "metadata": {
    "vscode": {
     "languageId": "plaintext"
    }
   },
   "outputs": [],
   "source": [
    "# Training a deep learning model \n",
    "# (saving the model using callbacks according to an early-stopping criteria)\n",
    "downscaleTrain.keras(data,\n",
    "                     model = model,\n",
    "                     compile.args = list(\"loss\" = \"mse\", \n",
    "                                         \"optimizer\" = optimizer_adam(lr = 0.01)\n",
    "                                        ),\n",
    "                     fit.args = list(\"epochs\" = 100, \n",
    "                                     \"batch_size\" = 100, \n",
    "                                     \"validation_split\" = 0.1, \n",
    "                                     \"verbose\" = 0,\n",
    "                                     \"callbacks\" = list(callback_early_stopping(patience = 30),\n",
    "                                                        callback_model_checkpoint(filepath=paste0(getwd(),\"/model.h5\"),\n",
    "                                                                                  monitor='val_loss', \n",
    "                                                                                  save_best_only=TRUE\n",
    "                                                                                 )\n",
    "                                                       )\n",
    "                                    ),\n",
    "                     clear.session = TRUE\n",
    "                    )"
   ]
  },
  {
   "cell_type": "code",
   "execution_count": null,
   "metadata": {},
   "outputs": [],
   "source": []
  }
 ],
 "metadata": {
  "kernelspec": {
   "display_name": "climate4R",
   "language": "R",
   "name": "climate4r"
  },
  "language_info": {
   "codemirror_mode": "r",
   "file_extension": ".r",
   "mimetype": "text/x-r-source",
   "name": "R",
   "pygments_lexer": "r",
   "version": "4.3.3"
  }
 },
 "nbformat": 4,
 "nbformat_minor": 4
}
