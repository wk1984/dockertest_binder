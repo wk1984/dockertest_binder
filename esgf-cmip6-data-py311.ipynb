{
 "cells": [
  {
   "cell_type": "code",
   "execution_count": null,
   "metadata": {
    "execution": {
     "iopub.execute_input": "2025-10-30T01:37:48.389982Z",
     "iopub.status.busy": "2025-10-30T01:37:48.389621Z",
     "iopub.status.idle": "2025-10-30T01:37:48.402863Z",
     "shell.execute_reply": "2025-10-30T01:37:48.401833Z",
     "shell.execute_reply.started": "2025-10-30T01:37:48.389951Z"
    },
    "trusted": true
   },
   "outputs": [],
   "source": [
    "import xarray as xr\n",
    "from siphon.catalog import TDSCatalog\n",
    "import pandas as pd\n",
    "import numpy as np\n",
    "\n",
    "def contains_all(list1, list2):\n",
    "    return all(x in list1 for x in list2)\n",
    "\n",
    "def get_file_url(cat_xml, filename):\n",
    "    return cat_xml.replace('https://','dap2://').replace('/catalog/','/dodsC/').replace('catalog.xml',filename)\n",
    "\n",
    "def access_data(file0):\n",
    "    try:\n",
    "        remote_data = xr.open_dataset(file0, decode_times=True, engine=\"pydap\")\n",
    "        # print('Something wrong with time decoding ...')\n",
    "    except:\n",
    "        print('Try ..')\n",
    "        remote_data = xr.open_dataset(file0, decode_times=False, engine=\"pydap\")\n",
    "        time_values = remote_data.time.values\n",
    "        raw_time_units  = remote_data.time.units.split(' since ')\n",
    "        print(raw_time_units)\n",
    "        if raw_time_units[0] == 'days': \n",
    "            time_unit = 'D'\n",
    "            print(raw_time_units[1])\n",
    "        else:\n",
    "            raise ValueError('The time unit is not day ...')\n",
    "        pandas_dates = pd.to_datetime(time_values, unit='D',origin=raw_time_units[1])\n",
    "        remote_data['time'] = pandas_dates\n",
    "    return remote_data\n",
    "    \n",
    "def concat_data(cat_xml, lat = [40,55], lon = [80,95], time=[1980, 2014], plev = [85000, 50000]):\n",
    "    \"\"\"\n",
    "        cat_xml: REQUIRED. the URL link of TDS data server, e.g., 'https://esgf.ceda.ac.uk/thredds/catalog/esg_cmip6/CMIP6/CMIP/catalog.xml'\n",
    "        lat: set the latitude range to clip, default [40,55]\n",
    "        lon: set the longitude range to clip, default [80,95]\n",
    "        time: set the time range to clip, defautl [1980, 2014]\n",
    "        plev: set a list to select pressure levels, default [85000, 50000]\n",
    "    \"\"\"\n",
    "    # read a file name list from TDS server ...\n",
    "    full_list = list(TDSCatalog(cat_xml).datasets)\n",
    "    cont = -1\n",
    "    for filename in full_list:\n",
    "        file0 = get_file_url(cat_xml, filename) # generate a real link of the file in the server \n",
    "        remote_data = access_data(file0) # \n",
    "        if ((remote_data.time[0].dt.year>time[1]) or (remote_data.time[-1].dt.year<time[0])):\n",
    "            # Check the time period\n",
    "            # if the file is not in the range we needed, skip ...\n",
    "            # print('No availiable ..' + filename)\n",
    "            pass \n",
    "        else:\n",
    "            cont += 1\n",
    "            dump = remote_data.sel(lat = slice(lat[0],lat[1]), \n",
    "                                   lon = slice(lon[0],lon[1]),\n",
    "                                   plev= plev,\n",
    "                                   time = slice(str(time[0]),str(time[1])))\n",
    "            if cont == 0: \n",
    "                out = dump.copy() # if the first file, just copy it\n",
    "            else:\n",
    "                out = xr.concat([out, dump], dim = 'time') # otherwise, concat them one by one according to 'time' dimension. \n",
    "            print('Loaded ... ' + filename)\n",
    "    return out"
   ]
  },
  {
   "cell_type": "code",
   "execution_count": null,
   "metadata": {
    "execution": {
     "iopub.execute_input": "2025-10-30T01:19:48.995213Z",
     "iopub.status.busy": "2025-10-30T01:19:48.994936Z",
     "iopub.status.idle": "2025-10-30T01:19:49.038559Z",
     "shell.execute_reply": "2025-10-30T01:19:49.037434Z",
     "shell.execute_reply.started": "2025-10-30T01:19:48.995190Z"
    },
    "trusted": true
   },
   "outputs": [],
   "source": [
    "?concat_data"
   ]
  },
  {
   "cell_type": "code",
   "execution_count": null,
   "metadata": {
    "execution": {
     "iopub.execute_input": "2025-10-30T01:57:23.208339Z",
     "iopub.status.busy": "2025-10-30T01:57:23.207823Z",
     "iopub.status.idle": "2025-10-30T02:00:52.381709Z",
     "shell.execute_reply": "2025-10-30T02:00:52.380858Z",
     "shell.execute_reply.started": "2025-10-30T01:57:23.208309Z"
    },
    "trusted": true
   },
   "outputs": [],
   "source": [
    "sel = 'CMIP'\n",
    "\n",
    "tab_info = pd.DataFrame(index = np.arange(10), columns = ['Institute','Model','nLat','nLon','nFiles','rLat','rLon'])\n",
    "\n",
    "n0 = -1\n",
    "\n",
    "cat0 = TDSCatalog('https://esgf.ceda.ac.uk/thredds/catalog/esg_cmip6/CMIP6/'+sel+'/catalog.xml')\n",
    "# for i0 in ['AS-RCEC']:# \n",
    "for i0 in list(cat0.catalog_refs):\n",
    "    cat1 = TDSCatalog(\"https://esgf.ceda.ac.uk/thredds/catalog/esg_cmip6/CMIP6/\"+sel+\"/\"+i0+\"/catalog.xml\")\n",
    "    # for i1 in ['TaiESM1']:\n",
    "    for i1 in list(cat1.catalog_refs):  # MODEL NAME\n",
    "        cat2 = TDSCatalog(\"https://esgf.ceda.ac.uk/thredds/catalog/esg_cmip6/CMIP6/\"+sel+\"/\"+i0+\"/\"+i1+\"/catalog.xml\")\n",
    "        if 'historical' in list(cat2.catalog_refs):\n",
    "            cat3 = TDSCatalog(\"https://esgf.ceda.ac.uk/thredds/catalog/esg_cmip6/CMIP6/\"+sel+\"/\"+i0+\"/\"+i1+\"/historical/catalog.xml\")\n",
    "            if 'r1i1p1f1' in list(cat3.catalog_refs):\n",
    "                cat4 = TDSCatalog(\"https://esgf.ceda.ac.uk/thredds/catalog/esg_cmip6/CMIP6/\"+sel+\"/\"+i0+\"/\"+i1+\"/historical/r1i1p1f1/catalog.xml\")\n",
    "                if 'day' in list(cat4.catalog_refs):\n",
    "                    cat5 = TDSCatalog(\"https://esgf.ceda.ac.uk/thredds/catalog/esg_cmip6/CMIP6/\"+sel+\"/\"+i0+\"/\"+i1+\"/historical/r1i1p1f1/day/catalog.xml\")\n",
    "                    if contains_all(list(cat5.catalog_refs), ['ta','ua', 'va', 'hus','psl']):\n",
    "                        check_gn = TDSCatalog(\"https://esgf.ceda.ac.uk/thredds/catalog/esg_cmip6/CMIP6/\"+sel+\"/\"+i0+\"/\"+i1+\"/historical/r1i1p1f1/day/ta/catalog.xml\")\n",
    "                        if 'gn' in list(check_gn.catalog_refs):\n",
    "                            n0 += 1\n",
    "                            cat_xml = \"https://esgf.ceda.ac.uk/thredds/catalog/esg_cmip6/CMIP6/\"+sel+\"/\"+i0+\"/\"+i1+\"/historical/r1i1p1f1/day/ta/gn/latest/catalog.xml\"\n",
    "                            ta_list = list(TDSCatalog(cat_xml).datasets)\n",
    "                            s0 = get_file_url(cat_xml, ta_list[0])\n",
    "                            s1 = access_data(s0) \n",
    "                            tab_info.loc[n0, 'Institute'] = i0\n",
    "                            tab_info.loc[n0, 'Model'] = i1\n",
    "                            tab_info.loc[n0, 'nLat'] = s1.lat.shape[0]\n",
    "                            tab_info.loc[n0, 'nLon'] = s1.lon.shape[0]\n",
    "                            tab_info.loc[n0, 'rLat'] = np.diff(s1.lat.values)[0] # Resolution\n",
    "                            tab_info.loc[n0, 'rLon'] = np.diff(s1.lon.values)[0] # Resolution\n",
    "                            tab_info.loc[n0, 'nFiles'] = len(ta_list)\n",
    "                            # print(i1, s1.lat.shape[0], s1.lon.shape[0])\n",
    "                            # print(i1, ta_list)\n",
    "\n",
    "tab_info"
   ]
  },
  {
   "cell_type": "code",
   "execution_count": null,
   "metadata": {},
   "outputs": [],
   "source": [
    "import intake_esm\n",
    "import intake\n",
    "cat_url = intake_esm.tutorial.get_url(\"google_cmip6\")\n",
    "cat = intake.open_esm_datastore(cat_url)"
   ]
  }
 ],
 "metadata": {
  "kaggle": {
   "accelerator": "none",
   "dataSources": [],
   "dockerImageVersionId": 31153,
   "isGpuEnabled": false,
   "isInternetEnabled": true,
   "language": "python",
   "sourceType": "notebook"
  },
  "kernelspec": {
   "display_name": "Python 3",
   "language": "python",
   "name": "python3"
  },
  "language_info": {
   "codemirror_mode": {
    "name": "ipython",
    "version": 3
   },
   "file_extension": ".py",
   "mimetype": "text/x-python",
   "name": "python",
   "nbconvert_exporter": "python",
   "pygments_lexer": "ipython3",
   "version": "3.11.13"
  }
 },
 "nbformat": 4,
 "nbformat_minor": 4
}
