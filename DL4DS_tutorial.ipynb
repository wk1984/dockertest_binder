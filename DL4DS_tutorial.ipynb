{
 "cells": [
  {
   "cell_type": "markdown",
   "metadata": {
    "id": "FVLfOm_2ZhP1"
   },
   "source": [
    "# Imports and setup"
   ]
  },
  {
   "cell_type": "markdown",
   "metadata": {
    "id": "fP2AfcEFg7bH"
   },
   "source": [
    "In this tutorial, we show one of the possible workflows of DL4DS. We do not aim to explore architectures, or to find the best network for the given dataset. This would require more computing power and an exhaustive exploration of the hyperparameters in DL4DS. Please read the paper and the documentation for an in-depth explanation of the library hyperparameters.\n",
    "\n",
    "We proceed with the installation and import of DL4DS and other useful libraries."
   ]
  },
  {
   "cell_type": "code",
   "execution_count": null,
   "metadata": {
    "colab": {
     "base_uri": "https://localhost:8080/",
     "height": 17
    },
    "id": "QBsog3kknNn8",
    "outputId": "310d4df3-3506-48ce-a34e-8727c89c95dc"
   },
   "outputs": [],
   "source": [
    "import numpy as np\n",
    "import xarray as xr\n",
    "import ecubevis as ecv\n",
    "import dl4ds as dds\n",
    "import scipy as sp\n",
    "import netCDF4 as nc\n",
    "import climetlab as cml"
   ]
  },
  {
   "cell_type": "code",
   "execution_count": null,
   "metadata": {
    "id": "yM3OpDDYnTCx"
   },
   "outputs": [],
   "source": [
    "import tensorflow as tf \n",
    "from tensorflow import keras\n",
    "from tensorflow.keras import models"
   ]
  },
  {
   "cell_type": "markdown",
   "metadata": {
    "id": "dgVRwXSFhKng"
   },
   "source": [
    "# Data"
   ]
  },
  {
   "cell_type": "markdown",
   "metadata": {
    "id": "wdEANGfQhRCq"
   },
   "source": [
    "We use the downscaling benchmark dataset provided by the MAELSTROM project: https://git.ecmwf.int/projects/MLFET/repos/maelstrom-downscaling-ap5/browse/notebooks/demo_downscaling_dataset.ipynb"
   ]
  },
  {
   "cell_type": "code",
   "execution_count": null,
   "metadata": {
    "colab": {
     "base_uri": "https://localhost:8080/",
     "height": 55,
     "referenced_widgets": [
      "411efd5b7fbe41fbb1173564d05ff0e7",
      "2c3ad8c2fad44977932d126b0627e93c",
      "0d4a3443bbdd428ebf061c2cf6cbb022",
      "c9bc02117c60482792486e6d7e95c02d",
      "11905a3e6fa44b92aa6699e1378434e9",
      "e54a06f37a774df4b0b7163e989b87f6",
      "51def3d4ae6847c0a675f6bce0adb37f",
      "7fbfb725afd942119ebb8271adb32bef",
      "79fa4cae759e412b8d2174e677719387",
      "a54e063523854ca6985805607bd0e5d8",
      "1c6bad1996134ed7bbc3fa83671a8360",
      "09e89df6b6c240638ad928715ec7fb51",
      "e41ee7d60862452297c363bf5fc0a6c7",
      "0860e2ea7fd840f7b603eab40b3a1dc1",
      "98fd29ae9e34460490e64881924adc92",
      "a71c207c1c6a49919bff2a8b5392d938",
      "a940fd76b8a945da94096ad890a5fe74",
      "74fa3864129f4c19aaf7494f1c13faf4",
      "c15ad5244143403ca33bbc4f77540660",
      "f3d458eb8bd046ee82d58a52c22a8a8a",
      "e366a4aeb9884fbb9b618af3c3acd83b",
      "270127ebc6ec49589b12b6c6dd89bb2e",
      "fc75cde81f24473d8a20b053f51a6885",
      "949cefe1a4fd4735888dfaa1542ed7a5",
      "14221753571f4143b509b001dba1dce6",
      "9b84954ea743410197c7b1c2228a57b8",
      "28c009c8e2714dcf84c81c04e2d2dcd9",
      "6e6ef623552a410683f7d71363472526",
      "bda8975a64a649d48974f72d37e765d3",
      "d0123254a5e04534ad06d1a60cdf6686",
      "63e82a00c87d4b878d5e5d65a2e07888",
      "ca6fe3ac4624433d99758308c36dfaed",
      "7914802b64764a36a7d31facdf545378"
     ]
    },
    "id": "pcdZThdIvSaD",
    "outputId": "46020081-68cf-4c3c-e7f9-1ba6afe7c61f"
   },
   "outputs": [],
   "source": [
    "cmlds_train = cml.load_dataset(\"maelstrom-downscaling-tier1\", dataset=\"training\")\n",
    "cmlds_val = cml.load_dataset(\"maelstrom-downscaling-tier1\", dataset=\"validation\")\n",
    "cmlds_test = cml.load_dataset(\"maelstrom-downscaling-tier1\", dataset=\"testing\")"
   ]
  },
  {
   "cell_type": "markdown",
   "metadata": {
    "id": "h-kJGC4ypCuw"
   },
   "source": [
    "We convert the downloaded objects to xarray datasets. You may need to execute the following cell a second time if you get an OSError (``OSError: [Errno -51] NetCDF: Unknown file format``)."
   ]
  },
  {
   "cell_type": "code",
   "execution_count": null,
   "metadata": {
    "id": "tGmzhDDT06V9",
    "tags": []
   },
   "outputs": [],
   "source": [
    "t2m_hr_train = cmlds_train.to_xarray().t2m_tar\n",
    "t2m_hr_test = cmlds_test.to_xarray().t2m_tar\n",
    "t2m_hr_val = cmlds_val.to_xarray().t2m_tar\n",
    "\n",
    "t2m_lr_train = cmlds_train.to_xarray().t2m_in\n",
    "t2m_lr_test = cmlds_test.to_xarray().t2m_in\n",
    "t2m_lr_val = cmlds_val.to_xarray().t2m_in\n",
    "\n",
    "z_hr_train = cmlds_train.to_xarray().z_tar\n",
    "z_hr_test = cmlds_test.to_xarray().z_tar\n",
    "z_hr_val = cmlds_val.to_xarray().z_tar\n",
    "\n",
    "z_lr_train = cmlds_train.to_xarray().z_in\n",
    "z_lr_test = cmlds_test.to_xarray().z_in\n",
    "z_lr_val = cmlds_val.to_xarray().z_in"
   ]
  },
  {
   "cell_type": "code",
   "execution_count": null,
   "metadata": {
    "colab": {
     "base_uri": "https://localhost:8080/",
     "height": 391
    },
    "id": "VIMeLE0albnP",
    "outputId": "56e73c19-3fce-4b91-886e-8c9f07c88c10"
   },
   "outputs": [],
   "source": [
    "z_hr_train"
   ]
  },
  {
   "cell_type": "markdown",
   "metadata": {
    "id": "YRfS_46Eb-Pl"
   },
   "source": [
    "Now let's visualize the xr.Dataset for the t2m variable with ECUBEVIS (https://github.com/carlos-gg/ecubevis.git)."
   ]
  },
  {
   "cell_type": "code",
   "execution_count": null,
   "metadata": {
    "colab": {
     "base_uri": "https://localhost:8080/",
     "height": 638
    },
    "id": "39CJkfV7sBSt",
    "outputId": "fc539ae0-efaa-458b-f86a-d3ad2bec69ac"
   },
   "outputs": [],
   "source": [
    "ecv.plot(t2m_hr_train)"
   ]
  },
  {
   "cell_type": "markdown",
   "metadata": {
    "id": "6o_Hdd9ypWE4"
   },
   "source": [
    "Here we take care of the scaling/normalization of values before training our networks. In this exmample, we center wrt the global mean and scale wrt the global standard deviation. "
   ]
  },
  {
   "cell_type": "code",
   "execution_count": null,
   "metadata": {
    "id": "GGTmi1g1qaPN"
   },
   "outputs": [],
   "source": [
    "t2m_scaler_train = dds.StandardScaler(axis=None)\n",
    "t2m_scaler_train.fit(t2m_hr_train)  \n",
    "y_train = t2m_scaler_train.transform(t2m_hr_train)\n",
    "y_test = t2m_scaler_train.transform(t2m_hr_test)\n",
    "y_val = t2m_scaler_train.transform(t2m_hr_val)\n",
    "\n",
    "x_train = t2m_scaler_train.transform(t2m_lr_train)\n",
    "x_test = t2m_scaler_train.transform(t2m_lr_test)\n",
    "x_val = t2m_scaler_train.transform(t2m_lr_val)\n",
    "\n",
    "z_scaler_train = dds.StandardScaler(axis=None)\n",
    "z_scaler_train.fit(z_hr_train)  \n",
    "y_z_train = z_scaler_train.transform(z_hr_train)\n",
    "y_z_test = z_scaler_train.transform(z_hr_test)\n",
    "y_z_val = z_scaler_train.transform(z_hr_val)\n",
    "\n",
    "x_z_train = z_scaler_train.transform(z_lr_train)\n",
    "x_z_test = z_scaler_train.transform(z_lr_test)\n",
    "x_z_val = z_scaler_train.transform(z_lr_val)"
   ]
  },
  {
   "cell_type": "code",
   "execution_count": null,
   "metadata": {
    "colab": {
     "base_uri": "https://localhost:8080/",
     "height": 613
    },
    "id": "ppKJXHovS4-g",
    "outputId": "4e61ced3-1b54-4cf2-9717-42a61f948921"
   },
   "outputs": [],
   "source": [
    "ecv.plot((x_train[0], y_train[0]), subplot_titles=('t2m coarsened', 't2m highres'))"
   ]
  },
  {
   "cell_type": "code",
   "execution_count": null,
   "metadata": {},
   "outputs": [],
   "source": [
    "ecv.plot((x_z_train[0], y_z_train[0]), subplot_titles=('geopotential coarsened', 'geopotential highres'))"
   ]
  },
  {
   "cell_type": "markdown",
   "metadata": {
    "id": "iHDJRe8icvJW"
   },
   "source": [
    "We add a last unitary dimension which we call ``channel``."
   ]
  },
  {
   "cell_type": "code",
   "execution_count": null,
   "metadata": {
    "id": "yTI8Sh-Rqodz"
   },
   "outputs": [],
   "source": [
    "y_train = y_train.expand_dims(dim='channel', axis=-1)\n",
    "y_test = y_test.expand_dims(dim='channel', axis=-1)\n",
    "y_val = y_val.expand_dims(dim='channel', axis=-1)\n",
    "\n",
    "x_train = x_train.expand_dims(dim='channel', axis=-1)\n",
    "x_test = x_test.expand_dims(dim='channel', axis=-1)\n",
    "x_val = x_val.expand_dims(dim='channel', axis=-1)\n",
    "\n",
    "y_z_train = y_z_train.expand_dims(dim='channel', axis=-1)\n",
    "y_z_test = y_z_test.expand_dims(dim='channel', axis=-1)\n",
    "y_z_val = y_z_val.expand_dims(dim='channel', axis=-1)\n",
    "\n",
    "x_z_train = x_z_train.expand_dims(dim='channel', axis=-1)\n",
    "x_z_test = x_z_test.expand_dims(dim='channel', axis=-1)\n",
    "x_z_val = x_z_val.expand_dims(dim='channel', axis=-1)"
   ]
  },
  {
   "cell_type": "markdown",
   "metadata": {
    "id": "dp8wYFFecm6q"
   },
   "source": [
    "These are the resulting shapes of the input arrays:"
   ]
  },
  {
   "cell_type": "code",
   "execution_count": null,
   "metadata": {
    "colab": {
     "base_uri": "https://localhost:8080/"
    },
    "id": "NeUVg6OIx64y",
    "outputId": "a2dd046d-92b9-4b2b-871b-178d9343e398"
   },
   "outputs": [],
   "source": [
    "print(y_train.shape, y_test.shape, y_val.shape)\n",
    "print(x_train.shape, x_test.shape, x_val.shape)\n",
    "\n",
    "print(x_z_train.shape, x_z_test.shape, x_z_val.shape)\n",
    "print(y_z_train.shape, y_z_test.shape, y_z_val.shape)"
   ]
  },
  {
   "cell_type": "markdown",
   "metadata": {
    "id": "-LM_l-VYyzr4"
   },
   "source": [
    "# Training"
   ]
  },
  {
   "cell_type": "markdown",
   "metadata": {
    "id": "syXWbsn_0N4q"
   },
   "source": [
    "For training, DL4DS takes:\n",
    "\n",
    "* HR data _[mandatory, highres grid]_, \n",
    "* LR data _[optional, coarse grid]_, \n",
    "* static variables _[optional, highres grid]_,\n",
    "* time-varyibng variables _[optional, coarse to highres grid]_. \n",
    "\n",
    "In this example, we do not use the LR data because it is just a coarsened version (via interpolation) of the HR t2m and z data. DL4DS carries out this interpolation on the fly by using the helping function ``dds.create_pair_hr_lr()`` (not to be called by the user). This process is done automatically inside the training loop (by calling one of the two Trainer classes in DL4DS), which we examplify here with the ``spc`` upsampling."
   ]
  },
  {
   "cell_type": "code",
   "execution_count": null,
   "metadata": {
    "colab": {
     "base_uri": "https://localhost:8080/",
     "height": 1000
    },
    "id": "B4bcfI6F43UQ",
    "outputId": "c240729a-fbd6-494c-b5db-088f87518e68"
   },
   "outputs": [],
   "source": [
    "_ = dds.create_pair_hr_lr(y_train.values[0], None, 'spc', 8, None, None, y_z_train.values[0], None, True, interpolation='inter_area')"
   ]
  },
  {
   "cell_type": "markdown",
   "metadata": {
    "id": "AjyRpUozWiDh"
   },
   "source": [
    "Below is an example of a call to the SupervisedTrainer class to run the training loop for 100 epochs. In this case, we train a network with a ResNet backbone, 8 residual blocks, in post-upsampling via subpixel convolution (implicit training pairs), and a localized convolutional block. "
   ]
  },
  {
   "cell_type": "code",
   "execution_count": null,
   "metadata": {
    "colab": {
     "base_uri": "https://localhost:8080/"
    },
    "id": "7tsJIr4bqsaR",
    "outputId": "4e28191e-35b1-4443-d2b8-cbecf93432d6"
   },
   "outputs": [],
   "source": [
    "ARCH_PARAMS = dict(n_filters=8,\n",
    "                   n_blocks=8,\n",
    "                   normalization=None,\n",
    "                   dropout_rate=0.0,\n",
    "                   dropout_variant='spatial',\n",
    "                   attention=False,\n",
    "                   activation='relu',\n",
    "                   localcon_layer=True)\n",
    "\n",
    "trainer = dds.SupervisedTrainer(\n",
    "    backbone='resnet',\n",
    "    upsampling='spc', \n",
    "    data_train=y_train, \n",
    "    data_val=y_val,\n",
    "    data_test=y_test,\n",
    "    data_train_lr=None, # here you can pass the LR dataset for training with explicit paired samples\n",
    "    data_val_lr=None, # here you can pass the LR dataset for training with explicit paired samples\n",
    "    data_test_lr=None, # here you can pass the LR dataset for training with explicit paired samples\n",
    "    scale=8,\n",
    "    time_window=None, \n",
    "    static_vars=None,\n",
    "    predictors_train=[y_z_train],\n",
    "    predictors_val=[y_z_val],\n",
    "    predictors_test=[y_z_test],\n",
    "    interpolation='inter_area',\n",
    "    patch_size=None, \n",
    "    batch_size=60, \n",
    "    loss='mae',\n",
    "    epochs=100, \n",
    "    steps_per_epoch=None, \n",
    "    validation_steps=None, \n",
    "    test_steps=None, \n",
    "    learning_rate=(1e-3, 1e-4), lr_decay_after=1e4,\n",
    "    early_stopping=False, patience=6, min_delta=0, \n",
    "    save=False, \n",
    "    save_path=None,\n",
    "    show_plot=True, verbose=True, \n",
    "    device='GPU', \n",
    "    **ARCH_PARAMS)\n",
    "\n",
    "trainer.run()"
   ]
  },
  {
   "cell_type": "markdown",
   "metadata": {
    "id": "LCUTDLkueoWc"
   },
   "source": [
    "# Inference"
   ]
  },
  {
   "cell_type": "markdown",
   "metadata": {
    "id": "rw_pIaQGer1V"
   },
   "source": [
    "Let's evaluate the results on holdout data -- the test split of the benchmark dataset that has not been used while training (updating the network weights)."
   ]
  },
  {
   "cell_type": "code",
   "execution_count": null,
   "metadata": {
    "colab": {
     "base_uri": "https://localhost:8080/"
    },
    "id": "xyPJf_lGw7z5",
    "outputId": "e3488560-bfe5-4012-8740-f01e76cccae7"
   },
   "outputs": [],
   "source": [
    "pred = dds.Predictor(\n",
    "    trainer, \n",
    "    y_test, \n",
    "    scale=8, \n",
    "    array_in_hr=True,\n",
    "    static_vars=None, \n",
    "    predictors=[y_z_test], \n",
    "    time_window=None,\n",
    "    interpolation='inter_area', \n",
    "    batch_size=8,\n",
    "    scaler=t2m_scaler_train,\n",
    "    save_path=None,\n",
    "    save_fname=None,\n",
    "    return_lr=True,\n",
    "    device='CPU')\n",
    "\n",
    "unscaled_y_pred, coarsened_array = pred.run()"
   ]
  },
  {
   "cell_type": "markdown",
   "metadata": {},
   "source": [
    "Below is the coarsened version of the holdout, passed to the trained model for inference:"
   ]
  },
  {
   "cell_type": "code",
   "execution_count": null,
   "metadata": {},
   "outputs": [],
   "source": [
    "ind = 100\n",
    "ecv.plot((coarsened_array[ind][:,:,0], coarsened_array[ind][:,:,1]))"
   ]
  },
  {
   "cell_type": "code",
   "execution_count": null,
   "metadata": {
    "id": "D8Sq28_bjOBb"
   },
   "outputs": [],
   "source": [
    "unscaled_y_test = t2m_scaler_train.inverse_transform(y_test)"
   ]
  },
  {
   "cell_type": "markdown",
   "metadata": {},
   "source": [
    "Finally, let's see compare the groundtruth HR t2m and the downscaled t2m obtained with DL4DS for a single time step. "
   ]
  },
  {
   "cell_type": "code",
   "execution_count": null,
   "metadata": {
    "colab": {
     "base_uri": "https://localhost:8080/",
     "height": 284
    },
    "id": "Wc9fIQc2tlOG",
    "outputId": "8d8bdc7a-97b1-4cd3-c8df-69623693a046"
   },
   "outputs": [],
   "source": [
    "ecv.plot((unscaled_y_test[ind].values, unscaled_y_pred[ind]), subplot_titles=('groundtruth t2m', 'downscaled t2m'))"
   ]
  },
  {
   "cell_type": "markdown",
   "metadata": {},
   "source": [
    "Please take into account that we are using a dummy dataset with few samples, and are training in supervised fashion a single possible DL4DS architecture, without tuning hyperparameters. In order to find the best model, you should compute relevant metrics for your problem. This is out of the scope of this tutorial."
   ]
  }
 ],
 "metadata": {
  "accelerator": "GPU",
  "colab": {
   "collapsed_sections": [],
   "provenance": [],
   "toc_visible": true
  },
  "gpuClass": "standard",
  "kernelspec": {
   "display_name": "dl4ds",
   "language": "python",
   "name": "python3"
  },
  "language_info": {
   "codemirror_mode": {
    "name": "ipython",
    "version": 3
   },
   "file_extension": ".py",
   "mimetype": "text/x-python",
   "name": "python",
   "nbconvert_exporter": "python",
   "pygments_lexer": "ipython3",
   "version": "3.9.23"
  },
  "widgets": {
   "application/vnd.jupyter.widget-state+json": {
    "0860e2ea7fd840f7b603eab40b3a1dc1": {
     "model_module": "@jupyter-widgets/controls",
     "model_module_version": "1.5.0",
     "model_name": "FloatProgressModel",
     "state": {
      "_dom_classes": [],
      "_model_module": "@jupyter-widgets/controls",
      "_model_module_version": "1.5.0",
      "_model_name": "FloatProgressModel",
      "_view_count": null,
      "_view_module": "@jupyter-widgets/controls",
      "_view_module_version": "1.5.0",
      "_view_name": "ProgressView",
      "bar_style": "",
      "description": "",
      "description_tooltip": null,
      "layout": "IPY_MODEL_c15ad5244143403ca33bbc4f77540660",
      "max": 3,
      "min": 0,
      "orientation": "horizontal",
      "style": "IPY_MODEL_f3d458eb8bd046ee82d58a52c22a8a8a",
      "value": 3
     }
    },
    "09e89df6b6c240638ad928715ec7fb51": {
     "model_module": "@jupyter-widgets/controls",
     "model_module_version": "1.5.0",
     "model_name": "HBoxModel",
     "state": {
      "_dom_classes": [],
      "_model_module": "@jupyter-widgets/controls",
      "_model_module_version": "1.5.0",
      "_model_name": "HBoxModel",
      "_view_count": null,
      "_view_module": "@jupyter-widgets/controls",
      "_view_module_version": "1.5.0",
      "_view_name": "HBoxView",
      "box_style": "",
      "children": [
       "IPY_MODEL_e41ee7d60862452297c363bf5fc0a6c7",
       "IPY_MODEL_0860e2ea7fd840f7b603eab40b3a1dc1",
       "IPY_MODEL_98fd29ae9e34460490e64881924adc92"
      ],
      "layout": "IPY_MODEL_a71c207c1c6a49919bff2a8b5392d938"
     }
    },
    "0d4a3443bbdd428ebf061c2cf6cbb022": {
     "model_module": "@jupyter-widgets/controls",
     "model_module_version": "1.5.0",
     "model_name": "FloatProgressModel",
     "state": {
      "_dom_classes": [],
      "_model_module": "@jupyter-widgets/controls",
      "_model_module_version": "1.5.0",
      "_model_name": "FloatProgressModel",
      "_view_count": null,
      "_view_module": "@jupyter-widgets/controls",
      "_view_module_version": "1.5.0",
      "_view_name": "ProgressView",
      "bar_style": "",
      "description": "",
      "description_tooltip": null,
      "layout": "IPY_MODEL_7fbfb725afd942119ebb8271adb32bef",
      "max": 24,
      "min": 0,
      "orientation": "horizontal",
      "style": "IPY_MODEL_79fa4cae759e412b8d2174e677719387",
      "value": 24
     }
    },
    "11905a3e6fa44b92aa6699e1378434e9": {
     "model_module": "@jupyter-widgets/base",
     "model_module_version": "1.2.0",
     "model_name": "LayoutModel",
     "state": {
      "_model_module": "@jupyter-widgets/base",
      "_model_module_version": "1.2.0",
      "_model_name": "LayoutModel",
      "_view_count": null,
      "_view_module": "@jupyter-widgets/base",
      "_view_module_version": "1.2.0",
      "_view_name": "LayoutView",
      "align_content": null,
      "align_items": null,
      "align_self": null,
      "border": null,
      "bottom": null,
      "display": null,
      "flex": null,
      "flex_flow": null,
      "grid_area": null,
      "grid_auto_columns": null,
      "grid_auto_flow": null,
      "grid_auto_rows": null,
      "grid_column": null,
      "grid_gap": null,
      "grid_row": null,
      "grid_template_areas": null,
      "grid_template_columns": null,
      "grid_template_rows": null,
      "height": null,
      "justify_content": null,
      "justify_items": null,
      "left": null,
      "margin": null,
      "max_height": null,
      "max_width": null,
      "min_height": null,
      "min_width": null,
      "object_fit": null,
      "object_position": null,
      "order": null,
      "overflow": null,
      "overflow_x": null,
      "overflow_y": null,
      "padding": null,
      "right": null,
      "top": null,
      "visibility": "hidden",
      "width": null
     }
    },
    "14221753571f4143b509b001dba1dce6": {
     "model_module": "@jupyter-widgets/controls",
     "model_module_version": "1.5.0",
     "model_name": "FloatProgressModel",
     "state": {
      "_dom_classes": [],
      "_model_module": "@jupyter-widgets/controls",
      "_model_module_version": "1.5.0",
      "_model_name": "FloatProgressModel",
      "_view_count": null,
      "_view_module": "@jupyter-widgets/controls",
      "_view_module_version": "1.5.0",
      "_view_name": "ProgressView",
      "bar_style": "",
      "description": "",
      "description_tooltip": null,
      "layout": "IPY_MODEL_d0123254a5e04534ad06d1a60cdf6686",
      "max": 3,
      "min": 0,
      "orientation": "horizontal",
      "style": "IPY_MODEL_63e82a00c87d4b878d5e5d65a2e07888",
      "value": 3
     }
    },
    "1c6bad1996134ed7bbc3fa83671a8360": {
     "model_module": "@jupyter-widgets/controls",
     "model_module_version": "1.5.0",
     "model_name": "DescriptionStyleModel",
     "state": {
      "_model_module": "@jupyter-widgets/controls",
      "_model_module_version": "1.5.0",
      "_model_name": "DescriptionStyleModel",
      "_view_count": null,
      "_view_module": "@jupyter-widgets/base",
      "_view_module_version": "1.2.0",
      "_view_name": "StyleView",
      "description_width": ""
     }
    },
    "270127ebc6ec49589b12b6c6dd89bb2e": {
     "model_module": "@jupyter-widgets/controls",
     "model_module_version": "1.5.0",
     "model_name": "DescriptionStyleModel",
     "state": {
      "_model_module": "@jupyter-widgets/controls",
      "_model_module_version": "1.5.0",
      "_model_name": "DescriptionStyleModel",
      "_view_count": null,
      "_view_module": "@jupyter-widgets/base",
      "_view_module_version": "1.2.0",
      "_view_name": "StyleView",
      "description_width": ""
     }
    },
    "28c009c8e2714dcf84c81c04e2d2dcd9": {
     "model_module": "@jupyter-widgets/base",
     "model_module_version": "1.2.0",
     "model_name": "LayoutModel",
     "state": {
      "_model_module": "@jupyter-widgets/base",
      "_model_module_version": "1.2.0",
      "_model_name": "LayoutModel",
      "_view_count": null,
      "_view_module": "@jupyter-widgets/base",
      "_view_module_version": "1.2.0",
      "_view_name": "LayoutView",
      "align_content": null,
      "align_items": null,
      "align_self": null,
      "border": null,
      "bottom": null,
      "display": null,
      "flex": null,
      "flex_flow": null,
      "grid_area": null,
      "grid_auto_columns": null,
      "grid_auto_flow": null,
      "grid_auto_rows": null,
      "grid_column": null,
      "grid_gap": null,
      "grid_row": null,
      "grid_template_areas": null,
      "grid_template_columns": null,
      "grid_template_rows": null,
      "height": null,
      "justify_content": null,
      "justify_items": null,
      "left": null,
      "margin": null,
      "max_height": null,
      "max_width": null,
      "min_height": null,
      "min_width": null,
      "object_fit": null,
      "object_position": null,
      "order": null,
      "overflow": null,
      "overflow_x": null,
      "overflow_y": null,
      "padding": null,
      "right": null,
      "top": null,
      "visibility": "hidden",
      "width": null
     }
    },
    "2c3ad8c2fad44977932d126b0627e93c": {
     "model_module": "@jupyter-widgets/controls",
     "model_module_version": "1.5.0",
     "model_name": "HTMLModel",
     "state": {
      "_dom_classes": [],
      "_model_module": "@jupyter-widgets/controls",
      "_model_module_version": "1.5.0",
      "_model_name": "HTMLModel",
      "_view_count": null,
      "_view_module": "@jupyter-widgets/controls",
      "_view_module_version": "1.5.0",
      "_view_name": "HTMLView",
      "description": "",
      "description_tooltip": null,
      "layout": "IPY_MODEL_e54a06f37a774df4b0b7163e989b87f6",
      "placeholder": "​",
      "style": "IPY_MODEL_51def3d4ae6847c0a675f6bce0adb37f",
      "value": " 96%"
     }
    },
    "411efd5b7fbe41fbb1173564d05ff0e7": {
     "model_module": "@jupyter-widgets/controls",
     "model_module_version": "1.5.0",
     "model_name": "HBoxModel",
     "state": {
      "_dom_classes": [],
      "_model_module": "@jupyter-widgets/controls",
      "_model_module_version": "1.5.0",
      "_model_name": "HBoxModel",
      "_view_count": null,
      "_view_module": "@jupyter-widgets/controls",
      "_view_module_version": "1.5.0",
      "_view_name": "HBoxView",
      "box_style": "",
      "children": [
       "IPY_MODEL_2c3ad8c2fad44977932d126b0627e93c",
       "IPY_MODEL_0d4a3443bbdd428ebf061c2cf6cbb022",
       "IPY_MODEL_c9bc02117c60482792486e6d7e95c02d"
      ],
      "layout": "IPY_MODEL_11905a3e6fa44b92aa6699e1378434e9"
     }
    },
    "51def3d4ae6847c0a675f6bce0adb37f": {
     "model_module": "@jupyter-widgets/controls",
     "model_module_version": "1.5.0",
     "model_name": "DescriptionStyleModel",
     "state": {
      "_model_module": "@jupyter-widgets/controls",
      "_model_module_version": "1.5.0",
      "_model_name": "DescriptionStyleModel",
      "_view_count": null,
      "_view_module": "@jupyter-widgets/base",
      "_view_module_version": "1.2.0",
      "_view_name": "StyleView",
      "description_width": ""
     }
    },
    "63e82a00c87d4b878d5e5d65a2e07888": {
     "model_module": "@jupyter-widgets/controls",
     "model_module_version": "1.5.0",
     "model_name": "ProgressStyleModel",
     "state": {
      "_model_module": "@jupyter-widgets/controls",
      "_model_module_version": "1.5.0",
      "_model_name": "ProgressStyleModel",
      "_view_count": null,
      "_view_module": "@jupyter-widgets/base",
      "_view_module_version": "1.2.0",
      "_view_name": "StyleView",
      "bar_color": null,
      "description_width": ""
     }
    },
    "6e6ef623552a410683f7d71363472526": {
     "model_module": "@jupyter-widgets/base",
     "model_module_version": "1.2.0",
     "model_name": "LayoutModel",
     "state": {
      "_model_module": "@jupyter-widgets/base",
      "_model_module_version": "1.2.0",
      "_model_name": "LayoutModel",
      "_view_count": null,
      "_view_module": "@jupyter-widgets/base",
      "_view_module_version": "1.2.0",
      "_view_name": "LayoutView",
      "align_content": null,
      "align_items": null,
      "align_self": null,
      "border": null,
      "bottom": null,
      "display": null,
      "flex": null,
      "flex_flow": null,
      "grid_area": null,
      "grid_auto_columns": null,
      "grid_auto_flow": null,
      "grid_auto_rows": null,
      "grid_column": null,
      "grid_gap": null,
      "grid_row": null,
      "grid_template_areas": null,
      "grid_template_columns": null,
      "grid_template_rows": null,
      "height": null,
      "justify_content": null,
      "justify_items": null,
      "left": null,
      "margin": null,
      "max_height": null,
      "max_width": null,
      "min_height": null,
      "min_width": null,
      "object_fit": null,
      "object_position": null,
      "order": null,
      "overflow": null,
      "overflow_x": null,
      "overflow_y": null,
      "padding": null,
      "right": null,
      "top": null,
      "visibility": null,
      "width": null
     }
    },
    "74fa3864129f4c19aaf7494f1c13faf4": {
     "model_module": "@jupyter-widgets/controls",
     "model_module_version": "1.5.0",
     "model_name": "DescriptionStyleModel",
     "state": {
      "_model_module": "@jupyter-widgets/controls",
      "_model_module_version": "1.5.0",
      "_model_name": "DescriptionStyleModel",
      "_view_count": null,
      "_view_module": "@jupyter-widgets/base",
      "_view_module_version": "1.2.0",
      "_view_name": "StyleView",
      "description_width": ""
     }
    },
    "7914802b64764a36a7d31facdf545378": {
     "model_module": "@jupyter-widgets/controls",
     "model_module_version": "1.5.0",
     "model_name": "DescriptionStyleModel",
     "state": {
      "_model_module": "@jupyter-widgets/controls",
      "_model_module_version": "1.5.0",
      "_model_name": "DescriptionStyleModel",
      "_view_count": null,
      "_view_module": "@jupyter-widgets/base",
      "_view_module_version": "1.2.0",
      "_view_name": "StyleView",
      "description_width": ""
     }
    },
    "79fa4cae759e412b8d2174e677719387": {
     "model_module": "@jupyter-widgets/controls",
     "model_module_version": "1.5.0",
     "model_name": "ProgressStyleModel",
     "state": {
      "_model_module": "@jupyter-widgets/controls",
      "_model_module_version": "1.5.0",
      "_model_name": "ProgressStyleModel",
      "_view_count": null,
      "_view_module": "@jupyter-widgets/base",
      "_view_module_version": "1.2.0",
      "_view_name": "StyleView",
      "bar_color": null,
      "description_width": ""
     }
    },
    "7fbfb725afd942119ebb8271adb32bef": {
     "model_module": "@jupyter-widgets/base",
     "model_module_version": "1.2.0",
     "model_name": "LayoutModel",
     "state": {
      "_model_module": "@jupyter-widgets/base",
      "_model_module_version": "1.2.0",
      "_model_name": "LayoutModel",
      "_view_count": null,
      "_view_module": "@jupyter-widgets/base",
      "_view_module_version": "1.2.0",
      "_view_name": "LayoutView",
      "align_content": null,
      "align_items": null,
      "align_self": null,
      "border": null,
      "bottom": null,
      "display": null,
      "flex": null,
      "flex_flow": null,
      "grid_area": null,
      "grid_auto_columns": null,
      "grid_auto_flow": null,
      "grid_auto_rows": null,
      "grid_column": null,
      "grid_gap": null,
      "grid_row": null,
      "grid_template_areas": null,
      "grid_template_columns": null,
      "grid_template_rows": null,
      "height": null,
      "justify_content": null,
      "justify_items": null,
      "left": null,
      "margin": null,
      "max_height": null,
      "max_width": null,
      "min_height": null,
      "min_width": null,
      "object_fit": null,
      "object_position": null,
      "order": null,
      "overflow": null,
      "overflow_x": null,
      "overflow_y": null,
      "padding": null,
      "right": null,
      "top": null,
      "visibility": null,
      "width": null
     }
    },
    "949cefe1a4fd4735888dfaa1542ed7a5": {
     "model_module": "@jupyter-widgets/controls",
     "model_module_version": "1.5.0",
     "model_name": "HTMLModel",
     "state": {
      "_dom_classes": [],
      "_model_module": "@jupyter-widgets/controls",
      "_model_module_version": "1.5.0",
      "_model_name": "HTMLModel",
      "_view_count": null,
      "_view_module": "@jupyter-widgets/controls",
      "_view_module_version": "1.5.0",
      "_view_name": "HTMLView",
      "description": "",
      "description_tooltip": null,
      "layout": "IPY_MODEL_6e6ef623552a410683f7d71363472526",
      "placeholder": "​",
      "style": "IPY_MODEL_bda8975a64a649d48974f72d37e765d3",
      "value": "  0%"
     }
    },
    "98fd29ae9e34460490e64881924adc92": {
     "model_module": "@jupyter-widgets/controls",
     "model_module_version": "1.5.0",
     "model_name": "HTMLModel",
     "state": {
      "_dom_classes": [],
      "_model_module": "@jupyter-widgets/controls",
      "_model_module_version": "1.5.0",
      "_model_name": "HTMLModel",
      "_view_count": null,
      "_view_module": "@jupyter-widgets/controls",
      "_view_module_version": "1.5.0",
      "_view_name": "HTMLView",
      "description": "",
      "description_tooltip": null,
      "layout": "IPY_MODEL_e366a4aeb9884fbb9b618af3c3acd83b",
      "placeholder": "​",
      "style": "IPY_MODEL_270127ebc6ec49589b12b6c6dd89bb2e",
      "value": " 0/3 [00:00&lt;?, ?it/s]"
     }
    },
    "9b84954ea743410197c7b1c2228a57b8": {
     "model_module": "@jupyter-widgets/controls",
     "model_module_version": "1.5.0",
     "model_name": "HTMLModel",
     "state": {
      "_dom_classes": [],
      "_model_module": "@jupyter-widgets/controls",
      "_model_module_version": "1.5.0",
      "_model_name": "HTMLModel",
      "_view_count": null,
      "_view_module": "@jupyter-widgets/controls",
      "_view_module_version": "1.5.0",
      "_view_name": "HTMLView",
      "description": "",
      "description_tooltip": null,
      "layout": "IPY_MODEL_ca6fe3ac4624433d99758308c36dfaed",
      "placeholder": "​",
      "style": "IPY_MODEL_7914802b64764a36a7d31facdf545378",
      "value": " 0/3 [00:00&lt;?, ?it/s]"
     }
    },
    "a54e063523854ca6985805607bd0e5d8": {
     "model_module": "@jupyter-widgets/base",
     "model_module_version": "1.2.0",
     "model_name": "LayoutModel",
     "state": {
      "_model_module": "@jupyter-widgets/base",
      "_model_module_version": "1.2.0",
      "_model_name": "LayoutModel",
      "_view_count": null,
      "_view_module": "@jupyter-widgets/base",
      "_view_module_version": "1.2.0",
      "_view_name": "LayoutView",
      "align_content": null,
      "align_items": null,
      "align_self": null,
      "border": null,
      "bottom": null,
      "display": null,
      "flex": null,
      "flex_flow": null,
      "grid_area": null,
      "grid_auto_columns": null,
      "grid_auto_flow": null,
      "grid_auto_rows": null,
      "grid_column": null,
      "grid_gap": null,
      "grid_row": null,
      "grid_template_areas": null,
      "grid_template_columns": null,
      "grid_template_rows": null,
      "height": null,
      "justify_content": null,
      "justify_items": null,
      "left": null,
      "margin": null,
      "max_height": null,
      "max_width": null,
      "min_height": null,
      "min_width": null,
      "object_fit": null,
      "object_position": null,
      "order": null,
      "overflow": null,
      "overflow_x": null,
      "overflow_y": null,
      "padding": null,
      "right": null,
      "top": null,
      "visibility": null,
      "width": null
     }
    },
    "a71c207c1c6a49919bff2a8b5392d938": {
     "model_module": "@jupyter-widgets/base",
     "model_module_version": "1.2.0",
     "model_name": "LayoutModel",
     "state": {
      "_model_module": "@jupyter-widgets/base",
      "_model_module_version": "1.2.0",
      "_model_name": "LayoutModel",
      "_view_count": null,
      "_view_module": "@jupyter-widgets/base",
      "_view_module_version": "1.2.0",
      "_view_name": "LayoutView",
      "align_content": null,
      "align_items": null,
      "align_self": null,
      "border": null,
      "bottom": null,
      "display": null,
      "flex": null,
      "flex_flow": null,
      "grid_area": null,
      "grid_auto_columns": null,
      "grid_auto_flow": null,
      "grid_auto_rows": null,
      "grid_column": null,
      "grid_gap": null,
      "grid_row": null,
      "grid_template_areas": null,
      "grid_template_columns": null,
      "grid_template_rows": null,
      "height": null,
      "justify_content": null,
      "justify_items": null,
      "left": null,
      "margin": null,
      "max_height": null,
      "max_width": null,
      "min_height": null,
      "min_width": null,
      "object_fit": null,
      "object_position": null,
      "order": null,
      "overflow": null,
      "overflow_x": null,
      "overflow_y": null,
      "padding": null,
      "right": null,
      "top": null,
      "visibility": "hidden",
      "width": null
     }
    },
    "a940fd76b8a945da94096ad890a5fe74": {
     "model_module": "@jupyter-widgets/base",
     "model_module_version": "1.2.0",
     "model_name": "LayoutModel",
     "state": {
      "_model_module": "@jupyter-widgets/base",
      "_model_module_version": "1.2.0",
      "_model_name": "LayoutModel",
      "_view_count": null,
      "_view_module": "@jupyter-widgets/base",
      "_view_module_version": "1.2.0",
      "_view_name": "LayoutView",
      "align_content": null,
      "align_items": null,
      "align_self": null,
      "border": null,
      "bottom": null,
      "display": null,
      "flex": null,
      "flex_flow": null,
      "grid_area": null,
      "grid_auto_columns": null,
      "grid_auto_flow": null,
      "grid_auto_rows": null,
      "grid_column": null,
      "grid_gap": null,
      "grid_row": null,
      "grid_template_areas": null,
      "grid_template_columns": null,
      "grid_template_rows": null,
      "height": null,
      "justify_content": null,
      "justify_items": null,
      "left": null,
      "margin": null,
      "max_height": null,
      "max_width": null,
      "min_height": null,
      "min_width": null,
      "object_fit": null,
      "object_position": null,
      "order": null,
      "overflow": null,
      "overflow_x": null,
      "overflow_y": null,
      "padding": null,
      "right": null,
      "top": null,
      "visibility": null,
      "width": null
     }
    },
    "bda8975a64a649d48974f72d37e765d3": {
     "model_module": "@jupyter-widgets/controls",
     "model_module_version": "1.5.0",
     "model_name": "DescriptionStyleModel",
     "state": {
      "_model_module": "@jupyter-widgets/controls",
      "_model_module_version": "1.5.0",
      "_model_name": "DescriptionStyleModel",
      "_view_count": null,
      "_view_module": "@jupyter-widgets/base",
      "_view_module_version": "1.2.0",
      "_view_name": "StyleView",
      "description_width": ""
     }
    },
    "c15ad5244143403ca33bbc4f77540660": {
     "model_module": "@jupyter-widgets/base",
     "model_module_version": "1.2.0",
     "model_name": "LayoutModel",
     "state": {
      "_model_module": "@jupyter-widgets/base",
      "_model_module_version": "1.2.0",
      "_model_name": "LayoutModel",
      "_view_count": null,
      "_view_module": "@jupyter-widgets/base",
      "_view_module_version": "1.2.0",
      "_view_name": "LayoutView",
      "align_content": null,
      "align_items": null,
      "align_self": null,
      "border": null,
      "bottom": null,
      "display": null,
      "flex": null,
      "flex_flow": null,
      "grid_area": null,
      "grid_auto_columns": null,
      "grid_auto_flow": null,
      "grid_auto_rows": null,
      "grid_column": null,
      "grid_gap": null,
      "grid_row": null,
      "grid_template_areas": null,
      "grid_template_columns": null,
      "grid_template_rows": null,
      "height": null,
      "justify_content": null,
      "justify_items": null,
      "left": null,
      "margin": null,
      "max_height": null,
      "max_width": null,
      "min_height": null,
      "min_width": null,
      "object_fit": null,
      "object_position": null,
      "order": null,
      "overflow": null,
      "overflow_x": null,
      "overflow_y": null,
      "padding": null,
      "right": null,
      "top": null,
      "visibility": null,
      "width": null
     }
    },
    "c9bc02117c60482792486e6d7e95c02d": {
     "model_module": "@jupyter-widgets/controls",
     "model_module_version": "1.5.0",
     "model_name": "HTMLModel",
     "state": {
      "_dom_classes": [],
      "_model_module": "@jupyter-widgets/controls",
      "_model_module_version": "1.5.0",
      "_model_name": "HTMLModel",
      "_view_count": null,
      "_view_module": "@jupyter-widgets/controls",
      "_view_module_version": "1.5.0",
      "_view_name": "HTMLView",
      "description": "",
      "description_tooltip": null,
      "layout": "IPY_MODEL_a54e063523854ca6985805607bd0e5d8",
      "placeholder": "​",
      "style": "IPY_MODEL_1c6bad1996134ed7bbc3fa83671a8360",
      "value": " 23/24 [00:00&lt;00:00, 71.84it/s]"
     }
    },
    "ca6fe3ac4624433d99758308c36dfaed": {
     "model_module": "@jupyter-widgets/base",
     "model_module_version": "1.2.0",
     "model_name": "LayoutModel",
     "state": {
      "_model_module": "@jupyter-widgets/base",
      "_model_module_version": "1.2.0",
      "_model_name": "LayoutModel",
      "_view_count": null,
      "_view_module": "@jupyter-widgets/base",
      "_view_module_version": "1.2.0",
      "_view_name": "LayoutView",
      "align_content": null,
      "align_items": null,
      "align_self": null,
      "border": null,
      "bottom": null,
      "display": null,
      "flex": null,
      "flex_flow": null,
      "grid_area": null,
      "grid_auto_columns": null,
      "grid_auto_flow": null,
      "grid_auto_rows": null,
      "grid_column": null,
      "grid_gap": null,
      "grid_row": null,
      "grid_template_areas": null,
      "grid_template_columns": null,
      "grid_template_rows": null,
      "height": null,
      "justify_content": null,
      "justify_items": null,
      "left": null,
      "margin": null,
      "max_height": null,
      "max_width": null,
      "min_height": null,
      "min_width": null,
      "object_fit": null,
      "object_position": null,
      "order": null,
      "overflow": null,
      "overflow_x": null,
      "overflow_y": null,
      "padding": null,
      "right": null,
      "top": null,
      "visibility": null,
      "width": null
     }
    },
    "d0123254a5e04534ad06d1a60cdf6686": {
     "model_module": "@jupyter-widgets/base",
     "model_module_version": "1.2.0",
     "model_name": "LayoutModel",
     "state": {
      "_model_module": "@jupyter-widgets/base",
      "_model_module_version": "1.2.0",
      "_model_name": "LayoutModel",
      "_view_count": null,
      "_view_module": "@jupyter-widgets/base",
      "_view_module_version": "1.2.0",
      "_view_name": "LayoutView",
      "align_content": null,
      "align_items": null,
      "align_self": null,
      "border": null,
      "bottom": null,
      "display": null,
      "flex": null,
      "flex_flow": null,
      "grid_area": null,
      "grid_auto_columns": null,
      "grid_auto_flow": null,
      "grid_auto_rows": null,
      "grid_column": null,
      "grid_gap": null,
      "grid_row": null,
      "grid_template_areas": null,
      "grid_template_columns": null,
      "grid_template_rows": null,
      "height": null,
      "justify_content": null,
      "justify_items": null,
      "left": null,
      "margin": null,
      "max_height": null,
      "max_width": null,
      "min_height": null,
      "min_width": null,
      "object_fit": null,
      "object_position": null,
      "order": null,
      "overflow": null,
      "overflow_x": null,
      "overflow_y": null,
      "padding": null,
      "right": null,
      "top": null,
      "visibility": null,
      "width": null
     }
    },
    "e366a4aeb9884fbb9b618af3c3acd83b": {
     "model_module": "@jupyter-widgets/base",
     "model_module_version": "1.2.0",
     "model_name": "LayoutModel",
     "state": {
      "_model_module": "@jupyter-widgets/base",
      "_model_module_version": "1.2.0",
      "_model_name": "LayoutModel",
      "_view_count": null,
      "_view_module": "@jupyter-widgets/base",
      "_view_module_version": "1.2.0",
      "_view_name": "LayoutView",
      "align_content": null,
      "align_items": null,
      "align_self": null,
      "border": null,
      "bottom": null,
      "display": null,
      "flex": null,
      "flex_flow": null,
      "grid_area": null,
      "grid_auto_columns": null,
      "grid_auto_flow": null,
      "grid_auto_rows": null,
      "grid_column": null,
      "grid_gap": null,
      "grid_row": null,
      "grid_template_areas": null,
      "grid_template_columns": null,
      "grid_template_rows": null,
      "height": null,
      "justify_content": null,
      "justify_items": null,
      "left": null,
      "margin": null,
      "max_height": null,
      "max_width": null,
      "min_height": null,
      "min_width": null,
      "object_fit": null,
      "object_position": null,
      "order": null,
      "overflow": null,
      "overflow_x": null,
      "overflow_y": null,
      "padding": null,
      "right": null,
      "top": null,
      "visibility": null,
      "width": null
     }
    },
    "e41ee7d60862452297c363bf5fc0a6c7": {
     "model_module": "@jupyter-widgets/controls",
     "model_module_version": "1.5.0",
     "model_name": "HTMLModel",
     "state": {
      "_dom_classes": [],
      "_model_module": "@jupyter-widgets/controls",
      "_model_module_version": "1.5.0",
      "_model_name": "HTMLModel",
      "_view_count": null,
      "_view_module": "@jupyter-widgets/controls",
      "_view_module_version": "1.5.0",
      "_view_name": "HTMLView",
      "description": "",
      "description_tooltip": null,
      "layout": "IPY_MODEL_a940fd76b8a945da94096ad890a5fe74",
      "placeholder": "​",
      "style": "IPY_MODEL_74fa3864129f4c19aaf7494f1c13faf4",
      "value": "  0%"
     }
    },
    "e54a06f37a774df4b0b7163e989b87f6": {
     "model_module": "@jupyter-widgets/base",
     "model_module_version": "1.2.0",
     "model_name": "LayoutModel",
     "state": {
      "_model_module": "@jupyter-widgets/base",
      "_model_module_version": "1.2.0",
      "_model_name": "LayoutModel",
      "_view_count": null,
      "_view_module": "@jupyter-widgets/base",
      "_view_module_version": "1.2.0",
      "_view_name": "LayoutView",
      "align_content": null,
      "align_items": null,
      "align_self": null,
      "border": null,
      "bottom": null,
      "display": null,
      "flex": null,
      "flex_flow": null,
      "grid_area": null,
      "grid_auto_columns": null,
      "grid_auto_flow": null,
      "grid_auto_rows": null,
      "grid_column": null,
      "grid_gap": null,
      "grid_row": null,
      "grid_template_areas": null,
      "grid_template_columns": null,
      "grid_template_rows": null,
      "height": null,
      "justify_content": null,
      "justify_items": null,
      "left": null,
      "margin": null,
      "max_height": null,
      "max_width": null,
      "min_height": null,
      "min_width": null,
      "object_fit": null,
      "object_position": null,
      "order": null,
      "overflow": null,
      "overflow_x": null,
      "overflow_y": null,
      "padding": null,
      "right": null,
      "top": null,
      "visibility": null,
      "width": null
     }
    },
    "f3d458eb8bd046ee82d58a52c22a8a8a": {
     "model_module": "@jupyter-widgets/controls",
     "model_module_version": "1.5.0",
     "model_name": "ProgressStyleModel",
     "state": {
      "_model_module": "@jupyter-widgets/controls",
      "_model_module_version": "1.5.0",
      "_model_name": "ProgressStyleModel",
      "_view_count": null,
      "_view_module": "@jupyter-widgets/base",
      "_view_module_version": "1.2.0",
      "_view_name": "StyleView",
      "bar_color": null,
      "description_width": ""
     }
    },
    "fc75cde81f24473d8a20b053f51a6885": {
     "model_module": "@jupyter-widgets/controls",
     "model_module_version": "1.5.0",
     "model_name": "HBoxModel",
     "state": {
      "_dom_classes": [],
      "_model_module": "@jupyter-widgets/controls",
      "_model_module_version": "1.5.0",
      "_model_name": "HBoxModel",
      "_view_count": null,
      "_view_module": "@jupyter-widgets/controls",
      "_view_module_version": "1.5.0",
      "_view_name": "HBoxView",
      "box_style": "",
      "children": [
       "IPY_MODEL_949cefe1a4fd4735888dfaa1542ed7a5",
       "IPY_MODEL_14221753571f4143b509b001dba1dce6",
       "IPY_MODEL_9b84954ea743410197c7b1c2228a57b8"
      ],
      "layout": "IPY_MODEL_28c009c8e2714dcf84c81c04e2d2dcd9"
     }
    }
   }
  }
 },
 "nbformat": 4,
 "nbformat_minor": 4
}